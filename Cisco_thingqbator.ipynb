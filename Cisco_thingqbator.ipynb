{
 "cells": [
  {
   "cell_type": "code",
   "execution_count": 10,
   "metadata": {},
   "outputs": [
    {
     "name": "stdout",
     "output_type": "stream",
     "text": [
      "588\n"
     ]
    }
   ],
   "source": [
    "import cv2 as cv\n",
    "import numpy as np\n",
    "\n",
    "#Initialise Camera\n",
    "vid = cv.VideoCapture(0)\n",
    "\n",
    "#Create a cascade classifier object\n",
    "face_cascade = cv.CascadeClassifier(\"C:/Users/Ayush/Open CV/haarcascade_frontalface_default.xml\")\n",
    "\n",
    "#No. of frames\n",
    "nof = 0\n",
    "\n",
    "#List to store each face, to be done later\n",
    "\n",
    "while True:\n",
    "    #check returns bool, frame returns the image\n",
    "    check, frame = vid.read()\n",
    "    if not check:\n",
    "        continue\n",
    "        \n",
    "    #Increment number of frames\n",
    "    nof += 1\n",
    
    "    \n",
    "    #Convert image to grayscale\n",
    "    gray = cv.cvtColor(frame, cv.COLOR_BGR2GRAY)\n",
    "    \n",
    "    #Detect multiple faces. Returns a list of faces in the current frame.\n",
    "    faces = face_cascade.detectMultiScale(frame, 1.5, 5)\n",
    "    \n",
    "    #Draw a rectangle around each face\n",
    "    for top, left, bottom, right in faces:\n",
    "        frame = cv.rectangle(frame, (top, left), (top+bottom, left+right), (0,255,0), 3)\n",
    "        \n",
    "    #Show the faces with rectangle drawn on them\n",
    "    cv.imshow(\"Face\", frame)\n",
    "    \n",
    "    #Wait for 1ms per frame. Quit if 'q' pressed.\n",
    "    key = cv.waitKey(1)\n",
    "    if key == ord('q'):\n",
    "        break\n",
    "    \n",
    "#Print no. of frames\n",
    "print(nof)\n",
    "vid.release()\n",
    "cv.destroyAllWindows()\n",
    "        "
   ]
  }
 ],
 "metadata": {
  "kernelspec": {
   "display_name": "Python 3",
   "language": "python",
   "name": "python3"
  },
  "language_info": {
   "codemirror_mode": {
    "name": "ipython",
    "version": 3
   },
   "file_extension": ".py",
   "mimetype": "text/x-python",
   "name": "python",
   "nbconvert_exporter": "python",
   "pygments_lexer": "ipython3",
   "version": "3.7.4"
  }
 },
 "nbformat": 4,
 "nbformat_minor": 2
}
